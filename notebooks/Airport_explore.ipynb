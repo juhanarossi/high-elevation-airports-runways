{
 "cells": [
  {
   "cell_type": "code",
   "execution_count": 1,
   "metadata": {},
   "outputs": [
    {
     "name": "stderr",
     "output_type": "stream",
     "text": [
      "c:\\Users\\Juhana\\scoop\\apps\\pyenv\\current\\pyenv-win\\versions\\3.11.0rc2\\Lib\\site-packages\\rpy2\\robjects\\packages.py:367: UserWarning: The symbol 'quartz' is not in this R namespace/package.\n",
      "  warnings.warn(\n"
     ]
    }
   ],
   "source": [
    "%load_ext rpy2.ipython\n",
    "%load_ext autoreload\n",
    "%autoreload 2\n",
    "\n",
    "%matplotlib inline  \n",
    "from matplotlib import rcParams\n",
    "rcParams['figure.figsize'] = (16, 100)\n",
    "\n",
    "import warnings\n",
    "from rpy2.rinterface import RRuntimeWarning\n",
    "warnings.filterwarnings(\"ignore\") # Ignore all warnings\n",
    "# warnings.filterwarnings(\"ignore\", category=RRuntimeWarning) # Show some warnings\n",
    "\n",
    "import pandas as pd\n",
    "import numpy as np\n",
    "import matplotlib.pyplot as plt\n",
    "from IPython.display import display, HTML"
   ]
  },
  {
   "cell_type": "code",
   "execution_count": 2,
   "metadata": {},
   "outputs": [
    {
     "data": {
      "application/javascript": "// Disable auto-scrolling\nIPython.OutputArea.prototype._should_scroll = function(lines) {\n    return false;\n}\n",
      "text/plain": [
       "<IPython.core.display.Javascript object>"
      ]
     },
     "metadata": {},
     "output_type": "display_data"
    }
   ],
   "source": [
    "%%javascript\n",
    "// Disable auto-scrolling\n",
    "IPython.OutputArea.prototype._should_scroll = function(lines) {\n",
    "    return false;\n",
    "}"
   ]
  },
  {
   "cell_type": "code",
   "execution_count": 9,
   "metadata": {},
   "outputs": [
    {
     "name": "stderr",
     "output_type": "stream",
     "text": [
      "R[write to console]: Loading required package: ggplot2\n",
      "\n",
      "R[write to console]: Loading required package: ggrepel\n",
      "\n",
      "R[write to console]: Loading required package: readr\n",
      "\n",
      "R[write to console]: Loading required package: tidyverse\n",
      "\n"
     ]
    },
    {
     "name": "stdout",
     "output_type": "stream",
     "text": [
      "-- Attaching packages --------------------------------------- tidyverse 1.3.2 --\n",
      "v tibble  3.1.8      v dplyr   1.0.10\n",
      "v tidyr   1.2.1      v stringr 1.4.1 \n",
      "v purrr   1.0.1      v forcats 0.5.2 \n",
      "-- Conflicts ------------------------------------------ tidyverse_conflicts() --\n",
      "x dplyr::filter() masks stats::filter()\n",
      "x dplyr::lag()    masks stats::lag()\n"
     ]
    },
    {
     "name": "stderr",
     "output_type": "stream",
     "text": [
      "R[write to console]: Loading required package: extrafont\n",
      "\n",
      "R[write to console]: Registering fonts with R\n",
      "\n"
     ]
    }
   ],
   "source": [
    "%%R\n",
    "\n",
    "# My commonly used R imports\n",
    "require('ggplot2')\n",
    "require('ggrepel')\n",
    "require('readr')\n",
    "require('tidyverse')\n",
    "require('extrafont')\n"
   ]
  },
  {
   "cell_type": "code",
   "execution_count": 6,
   "metadata": {},
   "outputs": [
    {
     "data": {
      "text/html": [
       "<div>\n",
       "<style scoped>\n",
       "    .dataframe tbody tr th:only-of-type {\n",
       "        vertical-align: middle;\n",
       "    }\n",
       "\n",
       "    .dataframe tbody tr th {\n",
       "        vertical-align: top;\n",
       "    }\n",
       "\n",
       "    .dataframe thead th {\n",
       "        text-align: right;\n",
       "    }\n",
       "</style>\n",
       "<table border=\"1\" class=\"dataframe\">\n",
       "  <thead>\n",
       "    <tr style=\"text-align: right;\">\n",
       "      <th></th>\n",
       "      <th>ident</th>\n",
       "      <th>iata_code</th>\n",
       "      <th>type</th>\n",
       "      <th>name</th>\n",
       "      <th>iso_country</th>\n",
       "      <th>latitude_deg</th>\n",
       "      <th>longitude_deg</th>\n",
       "      <th>elevation_ft</th>\n",
       "      <th>runway_count</th>\n",
       "      <th>max_runway</th>\n",
       "      <th>avg_runway</th>\n",
       "    </tr>\n",
       "  </thead>\n",
       "  <tbody>\n",
       "    <tr>\n",
       "      <th>0</th>\n",
       "      <td>5A8</td>\n",
       "      <td>WKK</td>\n",
       "      <td>medium_airport</td>\n",
       "      <td>Aleknagik / New Airport</td>\n",
       "      <td>US</td>\n",
       "      <td>59.282600</td>\n",
       "      <td>-158.617996</td>\n",
       "      <td>66.0</td>\n",
       "      <td>1</td>\n",
       "      <td>2040.0</td>\n",
       "      <td>2040.0</td>\n",
       "    </tr>\n",
       "    <tr>\n",
       "      <th>1</th>\n",
       "      <td>AGGH</td>\n",
       "      <td>HIR</td>\n",
       "      <td>large_airport</td>\n",
       "      <td>Honiara International Airport</td>\n",
       "      <td>SB</td>\n",
       "      <td>-9.428000</td>\n",
       "      <td>160.054993</td>\n",
       "      <td>28.0</td>\n",
       "      <td>1</td>\n",
       "      <td>7218.0</td>\n",
       "      <td>7218.0</td>\n",
       "    </tr>\n",
       "    <tr>\n",
       "      <th>2</th>\n",
       "      <td>AGGM</td>\n",
       "      <td>MUA</td>\n",
       "      <td>medium_airport</td>\n",
       "      <td>Munda Airport</td>\n",
       "      <td>SB</td>\n",
       "      <td>-8.327970</td>\n",
       "      <td>157.263000</td>\n",
       "      <td>10.0</td>\n",
       "      <td>1</td>\n",
       "      <td>4593.0</td>\n",
       "      <td>4593.0</td>\n",
       "    </tr>\n",
       "    <tr>\n",
       "      <th>3</th>\n",
       "      <td>AHJ</td>\n",
       "      <td>AHJ</td>\n",
       "      <td>medium_airport</td>\n",
       "      <td>Hongyuan Airport</td>\n",
       "      <td>CN</td>\n",
       "      <td>32.531540</td>\n",
       "      <td>102.352240</td>\n",
       "      <td>11600.0</td>\n",
       "      <td>1</td>\n",
       "      <td>11811.0</td>\n",
       "      <td>11811.0</td>\n",
       "    </tr>\n",
       "    <tr>\n",
       "      <th>4</th>\n",
       "      <td>ANYN</td>\n",
       "      <td>INU</td>\n",
       "      <td>medium_airport</td>\n",
       "      <td>Nauru International Airport</td>\n",
       "      <td>NR</td>\n",
       "      <td>-0.547458</td>\n",
       "      <td>166.919006</td>\n",
       "      <td>22.0</td>\n",
       "      <td>1</td>\n",
       "      <td>7054.0</td>\n",
       "      <td>7054.0</td>\n",
       "    </tr>\n",
       "  </tbody>\n",
       "</table>\n",
       "</div>"
      ],
      "text/plain": [
       "  ident iata_code            type                           name iso_country  \\\n",
       "0   5A8       WKK  medium_airport        Aleknagik / New Airport          US   \n",
       "1  AGGH       HIR   large_airport  Honiara International Airport          SB   \n",
       "2  AGGM       MUA  medium_airport                  Munda Airport          SB   \n",
       "3   AHJ       AHJ  medium_airport               Hongyuan Airport          CN   \n",
       "4  ANYN       INU  medium_airport    Nauru International Airport          NR   \n",
       "\n",
       "   latitude_deg  longitude_deg  elevation_ft  runway_count  max_runway  \\\n",
       "0     59.282600    -158.617996          66.0             1      2040.0   \n",
       "1     -9.428000     160.054993          28.0             1      7218.0   \n",
       "2     -8.327970     157.263000          10.0             1      4593.0   \n",
       "3     32.531540     102.352240       11600.0             1     11811.0   \n",
       "4     -0.547458     166.919006          22.0             1      7054.0   \n",
       "\n",
       "   avg_runway  \n",
       "0      2040.0  \n",
       "1      7218.0  \n",
       "2      4593.0  \n",
       "3     11811.0  \n",
       "4      7054.0  "
      ]
     },
     "execution_count": 6,
     "metadata": {},
     "output_type": "execute_result"
    }
   ],
   "source": [
    "df = pd.read_csv('airports_final_product.csv')\n",
    "df.head()"
   ]
  },
  {
   "cell_type": "code",
   "execution_count": 7,
   "metadata": {},
   "outputs": [
    {
     "data": {
      "text/html": [
       "<div>\n",
       "<style scoped>\n",
       "    .dataframe tbody tr th:only-of-type {\n",
       "        vertical-align: middle;\n",
       "    }\n",
       "\n",
       "    .dataframe tbody tr th {\n",
       "        vertical-align: top;\n",
       "    }\n",
       "\n",
       "    .dataframe thead tr th {\n",
       "        text-align: left;\n",
       "    }\n",
       "\n",
       "    .dataframe thead tr:last-of-type th {\n",
       "        text-align: right;\n",
       "    }\n",
       "</style>\n",
       "<table border=\"1\" class=\"dataframe\">\n",
       "  <thead>\n",
       "    <tr>\n",
       "      <th></th>\n",
       "      <th>mean</th>\n",
       "      <th>median</th>\n",
       "      <th>std</th>\n",
       "      <th>count</th>\n",
       "    </tr>\n",
       "    <tr>\n",
       "      <th></th>\n",
       "      <th>elevation_ft</th>\n",
       "      <th>elevation_ft</th>\n",
       "      <th>elevation_ft</th>\n",
       "      <th>elevation_ft</th>\n",
       "    </tr>\n",
       "    <tr>\n",
       "      <th>type</th>\n",
       "      <th></th>\n",
       "      <th></th>\n",
       "      <th></th>\n",
       "      <th></th>\n",
       "    </tr>\n",
       "  </thead>\n",
       "  <tbody>\n",
       "    <tr>\n",
       "      <th>large_airport</th>\n",
       "      <td>764.973856</td>\n",
       "      <td>162.0</td>\n",
       "      <td>1508.581946</td>\n",
       "      <td>459</td>\n",
       "    </tr>\n",
       "    <tr>\n",
       "      <th>medium_airport</th>\n",
       "      <td>1068.992343</td>\n",
       "      <td>399.0</td>\n",
       "      <td>1669.299733</td>\n",
       "      <td>4310</td>\n",
       "    </tr>\n",
       "  </tbody>\n",
       "</table>\n",
       "</div>"
      ],
      "text/plain": [
       "                       mean       median          std        count\n",
       "               elevation_ft elevation_ft elevation_ft elevation_ft\n",
       "type                                                              \n",
       "large_airport    764.973856        162.0  1508.581946          459\n",
       "medium_airport  1068.992343        399.0  1669.299733         4310"
      ]
     },
     "execution_count": 7,
     "metadata": {},
     "output_type": "execute_result"
    }
   ],
   "source": [
    "piv = df \\\n",
    "    .pivot_table(index='type', \n",
    "                 values='elevation_ft', \n",
    "                 aggfunc=['mean', 'median', 'std', 'count'])\n",
    "piv"
   ]
  },
  {
   "cell_type": "code",
   "execution_count": 10,
   "metadata": {},
   "outputs": [
    {
     "data": {
      "image/png": "[encoded data removed]"
     },
     "metadata": {},
     "output_type": "display_data"
    }
   ],
   "source": [
    "%%R -i df\n",
    "# Plot + \n",
    "# Aesthetics\n",
    "ggplot(df) +\n",
    "    aes(x=max_runway, y=elevation_ft) +\n",
    "    geom_point() +\n",
    "    facet_wrap(~type) "
   ]
  },
  {
   "cell_type": "code",
   "execution_count": 11,
   "metadata": {},
   "outputs": [
    {
     "data": {
      "image/png": "[encoded data removed]"
     },
     "metadata": {},
     "output_type": "display_data"
    }
   ],
   "source": [
    "%%R -w 800 -h200\n",
    "\n",
    "# Plot +\n",
    "# Aesthetics + \n",
    "# Geom\n",
    "ggplot(df) + \n",
    "    aes(x=avg_runway, fill=type) +\n",
    "    geom_histogram(bins=40) +\n",
    "    facet_wrap(~type, nrow=1, scales=\"free\")"
   ]
  },
  {
   "cell_type": "code",
   "execution_count": null,
   "metadata": {},
   "outputs": [],
   "source": [
    "piv = airports \\\n",
    "    .pivot_table(index='pollster', \n",
    "                 values='error', \n",
    "                 aggfunc=['mean', 'median', 'std', 'count']) \\\n",
    "    #.sort_values(by=('mean', 'error'))\\\n",
    "\n",
    "# filter out any pollster with less than 10 polls\n",
    "piv[piv[('count','error')] > 10].tail(25)"
   ]
  },
  {
   "cell_type": "markdown",
   "metadata": {},
   "source": []
  }
 ],
 "metadata": {
  "kernelspec": {
   "display_name": "Python 3",
   "language": "python",
   "name": "python3"
  },
  "language_info": {
   "codemirror_mode": {
    "name": "ipython",
    "version": 3
   },
   "file_extension": ".py",
   "mimetype": "text/x-python",
   "name": "python",
   "nbconvert_exporter": "python",
   "pygments_lexer": "ipython3",
   "version": "3.11.0rc2"
  },
  "orig_nbformat": 4,
  "vscode": {
   "interpreter": {
    "hash": "65de3514c2093d7cf2865236cc502463c1679e0aae214bc84fb04981ce66d59a"
   }
  }
 },
 "nbformat": 4,
 "nbformat_minor": 2
}
